{
  "cells": [
    {
      "cell_type": "markdown",
      "metadata": {
        "id": "uuL27KZpYPWx"
      },
      "source": [
        "# Импорты"
      ]
    },
    {
      "cell_type": "code",
      "execution_count": 5,
      "metadata": {
        "id": "m8QQUWF4_9LI"
      },
      "outputs": [],
      "source": [
        "import os\n",
        "import pyspark\n",
        "from pyspark.sql.functions import row_number, rank, col\n",
        "from pyspark.sql import SparkSession\n",
        "from pyspark.sql.window import Window"
      ]
    },
    {
      "cell_type": "markdown",
      "metadata": {
        "id": "jpA8PL4rYTCj"
      },
      "source": [
        "# Создаем сессию"
      ]
    },
    {
      "cell_type": "code",
      "execution_count": 6,
      "metadata": {
        "id": "OWlTi-ZiAJ3F"
      },
      "outputs": [],
      "source": [
        "os.environ['PYSPARK_SUBMIT_ARGS'] = '--packages com.databricks:spark-xml_2.12:0.13.0 pyspark-shell'\n",
        "ss = SparkSession.builder.appName(\"Big_Data_Lab_2\").master(\"local[*]\").getOrCreate()"
      ]
    },
    {
      "cell_type": "markdown",
      "metadata": {
        "id": "8FBFLf55YYbp"
      },
      "source": [
        "# Считываем данные"
      ]
    },
    {
      "cell_type": "code",
      "execution_count": 9,
      "metadata": {
        "id": "2VEo5ei1BdLq"
      },
      "outputs": [],
      "source": [
        "lang_df = ss.read.option(\"header\", True)\\\n",
        "                  .option(\"inferSchema\", True)\\\n",
        "                  .csv(\"data/programming-languages.csv\")\n",
        "posts_df = ss.read.format(\"xml\")\\\n",
        "                      .options(rowTag=\"row\")\\\n",
        "                      .load(\"data/posts_sample.xml\")"
      ]
    },
    {
      "cell_type": "markdown",
      "metadata": {
        "id": "r9NMk9c8YcKt"
      },
      "source": [
        "# Производим обработку данных"
      ]
    },
    {
      "cell_type": "code",
      "execution_count": 10,
      "metadata": {
        "id": "rLe9EnXaBoBw"
      },
      "outputs": [],
      "source": [
        "lang_list = [row[0] for row in lang_df.select('name').collect()]"
      ]
    },
    {
      "cell_type": "code",
      "execution_count": 11,
      "metadata": {
        "id": "CUBekMIeEkzz"
      },
      "outputs": [],
      "source": [
        "def get_id_lang_year_by_row(row):\n",
        "    global lang_list\n",
        "    language_tag = None\n",
        "    for lang in lang_list:\n",
        "        if \"<\" + lang.lower() + \">\" in row._Tags.lower():\n",
        "            language_tag = lang\n",
        "            return (row._Id, language_tag, row._CreationDate.year)"
      ]
    },
    {
      "cell_type": "code",
      "execution_count": 12,
      "metadata": {
        "id": "fOYEownrEsqB"
      },
      "outputs": [],
      "source": [
        "# Исключаем посты без тегов\n",
        "# Преобразуем записи\n",
        "# Убираем пустые записи\n",
        "# Фильтруем записи по году\n",
        "id_lang_year_rdd = posts_df.rdd\\\n",
        "                           .filter(lambda row: row._Tags)\\\n",
        "                           .map(get_id_lang_year_by_row)\\\n",
        "                           .filter(lambda row: row)\\\n",
        "                           .filter(lambda row: 2010 <= row[2] and row[2] <= 2020)"
      ]
    },
    {
      "cell_type": "code",
      "execution_count": 13,
      "metadata": {
        "id": "PcVR8QwlG2EW"
      },
      "outputs": [],
      "source": [
        "# Группируем по (язык, год)\n",
        "# Считаем количество упоминаний языков в год\n",
        "year_lang_count_rdd = id_lang_year_rdd\\\n",
        "    .keyBy(lambda row: (row[2], row[1]))\\\n",
        "    .aggregateByKey( \n",
        "        0,\n",
        "        lambda acc, value: acc + 1,\n",
        "        lambda acc1, acc2: acc1 + acc2,\n",
        "    )\\\n",
        "    .map(lambda row: (*row[0], row[1])) # ((year, lang), count) -> (year, lang, count)"
      ]
    },
    {
      "cell_type": "code",
      "execution_count": 14,
      "metadata": {
        "id": "W7HbW62sLafi"
      },
      "outputs": [],
      "source": [
        "# Преобразуем в DataFrame\n",
        "year_lang_count_df = year_lang_count_rdd.toDF(schema=[\"year\", \"lang\", \"count\"])"
      ]
    },
    {
      "cell_type": "code",
      "execution_count": 16,
      "metadata": {
        "id": "OcwZBSDDLRHU"
      },
      "outputs": [],
      "source": [
        "top_n = 10\n",
        "\n",
        "# Группируем по году и сортируем по количеству вхождений\n",
        "# Оставляем только top_n наиболее упоминаемых языков для каждого года\n",
        "\n",
        "window_group_by_columns = Window.partitionBy(year_lang_count_df[\"year\"])\\\n",
        "                                    .orderBy(year_lang_count_df[\"count\"].desc())\n",
        "ordered_df = year_lang_count_df.select(year_lang_count_df.columns + [\n",
        "    row_number().over(window_group_by_columns).alias('row_rank')])\n",
        "\n",
        "topN_df = ordered_df.filter(f\"row_rank <= {top_n}\").drop(\"row_rank\")"
      ]
    },
    {
      "cell_type": "code",
      "execution_count": 17,
      "metadata": {
        "colab": {
          "base_uri": "https://localhost:8080/"
        },
        "id": "ELrcssNVO8sB",
        "outputId": "3897e7be-08fd-4fc9-dd76-8a189fc45f6f"
      },
      "outputs": [
        {
          "name": "stdout",
          "output_type": "stream",
          "text": [
            "+----+-----------+-----+\n",
            "|year|       lang|count|\n",
            "+----+-----------+-----+\n",
            "|2010|       Java|   52|\n",
            "|2010| JavaScript|   44|\n",
            "|2010|        PHP|   42|\n",
            "|2010|     Python|   25|\n",
            "|2010|Objective-C|   23|\n",
            "|2010|          C|   20|\n",
            "|2010|       Ruby|   11|\n",
            "|2010|     Delphi|    7|\n",
            "|2010|          R|    3|\n",
            "|2010|       Perl|    3|\n",
            "+----+-----------+-----+\n",
            "\n"
          ]
        }
      ],
      "source": [
        "topN_df.where(col(\"year\") == 2010).show()"
      ]
    },
    {
      "cell_type": "code",
      "execution_count": 18,
      "metadata": {
        "id": "rd7BEck-TRdw"
      },
      "outputs": [],
      "source": [
        "# Т.к., например за 2020 нет статей\n",
        "max_non_empty_year = topN_df.agg({\"year\": \"max\"}).collect()[0][\"max(year)\"]\n",
        "min_non_empty_year = topN_df.agg({\"year\": \"min\"}).collect()[0][\"min(year)\"]"
      ]
    },
    {
      "cell_type": "code",
      "execution_count": 19,
      "metadata": {
        "colab": {
          "base_uri": "https://localhost:8080/"
        },
        "id": "_-jD4F7aB6zw",
        "outputId": "2f4bcdba-8ec8-4d3c-c75a-909fa9b86f48"
      },
      "outputs": [
        {
          "name": "stdout",
          "output_type": "stream",
          "text": [
            "+-----------+--------------------+\n",
            "|       lang|Entries in 2010 year|\n",
            "+-----------+--------------------+\n",
            "|       Java|                  52|\n",
            "| JavaScript|                  44|\n",
            "|        PHP|                  42|\n",
            "|     Python|                  25|\n",
            "|Objective-C|                  23|\n",
            "|          C|                  20|\n",
            "|       Ruby|                  11|\n",
            "|     Delphi|                   7|\n",
            "|          R|                   3|\n",
            "|       Perl|                   3|\n",
            "+-----------+--------------------+\n",
            "\n",
            "+-----------+--------------------+\n",
            "|       lang|Entries in 2011 year|\n",
            "+-----------+--------------------+\n",
            "|        PHP|                  97|\n",
            "|       Java|                  92|\n",
            "| JavaScript|                  82|\n",
            "|     Python|                  35|\n",
            "|Objective-C|                  33|\n",
            "|          C|                  24|\n",
            "|       Ruby|                  17|\n",
            "|     Delphi|                   8|\n",
            "|       Perl|                   8|\n",
            "|       Bash|                   7|\n",
            "+-----------+--------------------+\n",
            "\n",
            "+-----------+--------------------+\n",
            "|       lang|Entries in 2012 year|\n",
            "+-----------+--------------------+\n",
            "|        PHP|                 136|\n",
            "| JavaScript|                 129|\n",
            "|       Java|                 124|\n",
            "|     Python|                  65|\n",
            "|Objective-C|                  45|\n",
            "|          C|                  27|\n",
            "|       Ruby|                  25|\n",
            "|       Bash|                   9|\n",
            "|          R|                   9|\n",
            "|     MATLAB|                   6|\n",
            "+-----------+--------------------+\n",
            "\n",
            "+-----------+--------------------+\n",
            "|       lang|Entries in 2013 year|\n",
            "+-----------+--------------------+\n",
            "| JavaScript|                 196|\n",
            "|       Java|                 191|\n",
            "|        PHP|                 173|\n",
            "|     Python|                  87|\n",
            "|Objective-C|                  40|\n",
            "|          C|                  36|\n",
            "|       Ruby|                  30|\n",
            "|          R|                  25|\n",
            "|       Bash|                  11|\n",
            "|      Scala|                  10|\n",
            "+-----------+--------------------+\n",
            "\n",
            "+-----------+--------------------+\n",
            "|       lang|Entries in 2014 year|\n",
            "+-----------+--------------------+\n",
            "| JavaScript|                 235|\n",
            "|       Java|                 228|\n",
            "|        PHP|                 154|\n",
            "|     Python|                 103|\n",
            "|          C|                  52|\n",
            "|Objective-C|                  49|\n",
            "|          R|                  28|\n",
            "|       Ruby|                  20|\n",
            "|     MATLAB|                  16|\n",
            "|       Bash|                  13|\n",
            "+-----------+--------------------+\n",
            "\n",
            "+-----------+--------------------+\n",
            "|       lang|Entries in 2015 year|\n",
            "+-----------+--------------------+\n",
            "| JavaScript|                 270|\n",
            "|       Java|                 208|\n",
            "|        PHP|                 147|\n",
            "|     Python|                 119|\n",
            "|          R|                  43|\n",
            "|          C|                  38|\n",
            "|Objective-C|                  30|\n",
            "|       Ruby|                  21|\n",
            "|     MATLAB|                  16|\n",
            "|      Scala|                  13|\n",
            "+-----------+--------------------+\n",
            "\n",
            "+----------+--------------------+\n",
            "|      lang|Entries in 2016 year|\n",
            "+----------+--------------------+\n",
            "|JavaScript|                 272|\n",
            "|      Java|                 179|\n",
            "|    Python|                 141|\n",
            "|       PHP|                 126|\n",
            "|         R|                  50|\n",
            "|         C|                  32|\n",
            "|      Ruby|                  21|\n",
            "|     Scala|                  16|\n",
            "|      Bash|                  16|\n",
            "|    MATLAB|                  15|\n",
            "+----------+--------------------+\n",
            "\n",
            "+-----------+--------------------+\n",
            "|       lang|Entries in 2017 year|\n",
            "+-----------+--------------------+\n",
            "| JavaScript|                 244|\n",
            "|       Java|                 204|\n",
            "|     Python|                 185|\n",
            "|        PHP|                 122|\n",
            "|          R|                  53|\n",
            "|          C|                  24|\n",
            "|Objective-C|                  19|\n",
            "|       Ruby|                  16|\n",
            "| PowerShell|                  14|\n",
            "| TypeScript|                  14|\n",
            "+-----------+--------------------+\n",
            "\n",
            "+----------+--------------------+\n",
            "|      lang|Entries in 2018 year|\n",
            "+----------+--------------------+\n",
            "|    Python|                 214|\n",
            "|JavaScript|                 196|\n",
            "|      Java|                 145|\n",
            "|       PHP|                  99|\n",
            "|         R|                  63|\n",
            "|         C|                  24|\n",
            "|     Scala|                  22|\n",
            "|TypeScript|                  21|\n",
            "|PowerShell|                  13|\n",
            "|      Bash|                  12|\n",
            "+----------+--------------------+\n",
            "\n",
            "+----------+--------------------+\n",
            "|      lang|Entries in 2019 year|\n",
            "+----------+--------------------+\n",
            "|    Python|                 162|\n",
            "|JavaScript|                 131|\n",
            "|      Java|                  95|\n",
            "|       PHP|                  59|\n",
            "|         R|                  36|\n",
            "|         C|                  14|\n",
            "|        Go|                   9|\n",
            "|      Dart|                   9|\n",
            "|    MATLAB|                   9|\n",
            "|      Ruby|                   8|\n",
            "+----------+--------------------+\n",
            "\n"
          ]
        }
      ],
      "source": [
        "for year in range(min_non_empty_year, max_non_empty_year+1):\n",
        "  topN_df.select(col(\"lang\"), col(\"count\").alias(f\"Entries in {year} year\")).where(col(\"year\") == year).show()"
      ]
    },
    {
      "cell_type": "code",
      "execution_count": 20,
      "metadata": {
        "id": "USMk48JIB-4e"
      },
      "outputs": [],
      "source": [
        "# Сохранить отчет по частям (по годам)\n",
        "#for year in range(min_non_empty_year, max_non_empty_year+1):\n",
        "#  year_df = topN_df.select(col(\"lang\"), col(\"count\").alias(f\"Entries in {year} year\")).where(col(\"year\") == year)\n",
        "#  year_df.write.format(\"parquet\").save(f\"/content/report/top_langs_year_{year}\")\n",
        "# Сохранить отчет одним целым\n",
        "topN_df.write.format(\"parquet\").save(f\"/content/report\")"
      ]
    }
  ],
  "metadata": {
    "colab": {
      "provenance": []
    },
    "kernelspec": {
      "display_name": "Python 3",
      "name": "python3"
    },
    "language_info": {
      "name": "python"
    }
  },
  "nbformat": 4,
  "nbformat_minor": 0
}
